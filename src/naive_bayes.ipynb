{
 "cells": [
  {
   "cell_type": "markdown",
   "id": "745f225f",
   "metadata": {},
   "source": [
    "## Train a Naive Bayes Classifier Model\n",
    "The model will be trained using pandas and scikit-learn.\n",
    "The model will be trained from data found at https://www.kaggle.com/datasets/teejmahal20/airline-passenger-satisfaction\n",
    "\n",
    "I am running this through VS Code, using a docker container. You may also use the `ipynb` file in other Jupyter Notebook style setups. Consult Jupyter Notebook for options."
   ]
  },
  {
   "cell_type": "markdown",
   "id": "ae7368d3",
   "metadata": {},
   "source": [
    "**To download the data, run this cell.**\n",
    "\n",
    "Running this cell will download the data, if you are running it in the docker container. If not, you will need to navigate to the `KAGGLE_DATA_URL` and download the data manually."
   ]
  },
  {
   "cell_type": "code",
   "execution_count": 2,
   "id": "5fb50738",
   "metadata": {},
   "outputs": [
    {
     "name": "stdout",
     "output_type": "stream",
     "text": [
      "Downloading from https://www.kaggle.com/api/v1/datasets/download/teejmahal20/airline-passenger-satisfaction?dataset_version_number=1...\n"
     ]
    },
    {
     "name": "stderr",
     "output_type": "stream",
     "text": [
      "100%|██████████| 2.71M/2.71M [00:00<00:00, 15.2MB/s]"
     ]
    },
    {
     "name": "stdout",
     "output_type": "stream",
     "text": [
      "Extracting files...\n"
     ]
    },
    {
     "name": "stderr",
     "output_type": "stream",
     "text": [
      "\n"
     ]
    },
    {
     "name": "stdout",
     "output_type": "stream",
     "text": [
      "Dataset cached at: /root/.cache/kagglehub/datasets/teejmahal20/airline-passenger-satisfaction/versions/1\n",
      "Copied test.csv to /workspaces/MS365/src/data/naive_bayes\n",
      "Copied train.csv to /workspaces/MS365/src/data/naive_bayes\n"
     ]
    }
   ],
   "source": [
    "import os\n",
    "from data import download_kaggle_dataset\n",
    "KAGGLE_DATA_URL = \"https://www.kaggle.com/datasets/teejmahal20/airline-passenger-satisfaction\"\n",
    "DATA_PATH = os.path.join(os.getcwd(), \"data\", \"naive_bayes\")\n",
    "download_kaggle_dataset(KAGGLE_DATA_URL, DATA_PATH)"
   ]
  }
 ],
 "metadata": {
  "kernelspec": {
   "display_name": "Python 3",
   "language": "python",
   "name": "python3"
  },
  "language_info": {
   "codemirror_mode": {
    "name": "ipython",
    "version": 3
   },
   "file_extension": ".py",
   "mimetype": "text/x-python",
   "name": "python",
   "nbconvert_exporter": "python",
   "pygments_lexer": "ipython3",
   "version": "3.13.3"
  }
 },
 "nbformat": 4,
 "nbformat_minor": 5
}
